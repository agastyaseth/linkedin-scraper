{
 "cells": [
  {
   "cell_type": "code",
   "execution_count": 1,
   "id": "2e613703-a7c3-4094-b0ef-d655281dbc63",
   "metadata": {},
   "outputs": [],
   "source": [
    "from selenium import webdriver\n",
    "from selenium.webdriver.common.by import By\n",
    "from bs4 import BeautifulSoup\n",
    "import time"
   ]
  },
  {
   "cell_type": "code",
   "execution_count": 2,
   "id": "9d74e170-1f81-4fd1-b063-565493300728",
   "metadata": {},
   "outputs": [],
   "source": [
    "# Creating a webdriver instance\n",
    "driver = webdriver.Chrome()\n"
   ]
  },
  {
   "cell_type": "code",
   "execution_count": 3,
   "id": "a780858a-4c17-40e9-afe5-4218d998f416",
   "metadata": {},
   "outputs": [],
   "source": [
    " driver.get(\"https://linkedin.com/uas/login\")"
   ]
  },
  {
   "cell_type": "code",
   "execution_count": 4,
   "id": "2eecf0c7-1684-4a10-be52-3292818e9e40",
   "metadata": {},
   "outputs": [],
   "source": [
    "# waiting for the page to load\n",
    "time.sleep(5)\n",
    " \n",
    "# entering username\n",
    "username = driver.find_element(By.ID, \"username\")\n",
    " \n",
    "# Enter Your Email Address\n",
    "username.send_keys(\"coils.colts-0h@icloud.com\") \n",
    " \n",
    "# entering password\n",
    "pword = driver.find_element(By.ID, \"password\")\n",
    "pword.send_keys(\"******\")       \n",
    " \n",
    "driver.find_element(By.XPATH, \"//button[@type='submit']\").click()"
   ]
  },
  {
   "cell_type": "code",
   "execution_count": 5,
   "id": "4fa2e243-83eb-488d-ae35-7acbff1f9178",
   "metadata": {},
   "outputs": [],
   "source": [
    "profile_url = \"https://www.linkedin.com/in/agastyaseth/\"\n",
    "driver.get(profile_url)        # this will open the link"
   ]
  },
  {
   "cell_type": "code",
   "execution_count": 6,
   "id": "110229c6-a8f5-4e12-bcfe-9bee1dc792ff",
   "metadata": {},
   "outputs": [],
   "source": [
    "start = time.time()\n",
    " \n",
    "# will be used in the while loop\n",
    "initialScroll = 0\n",
    "finalScroll = 1000\n",
    " \n",
    "while True:\n",
    "    driver.execute_script(f\"window.scrollTo({initialScroll},{finalScroll})\")\n",
    "    # this command scrolls the window starting from\n",
    "    # the pixel value stored in the initialScroll\n",
    "    # variable to the pixel value stored at the\n",
    "    # finalScroll variable\n",
    "    initialScroll = finalScroll\n",
    "    finalScroll += 1000\n",
    " \n",
    "    # we will stop the script for 3 seconds so that\n",
    "    # the data can load\n",
    "    time.sleep(3)\n",
    "    # You can change it as per your needs and internet speed\n",
    " \n",
    "    end = time.time()\n",
    " \n",
    "    # We will scroll for 20 seconds.\n",
    "    # You can change it as per your needs and internet speed\n",
    "    if round(end - start) > 20:\n",
    "        break"
   ]
  },
  {
   "cell_type": "markdown",
   "id": "b643d1ae-4e29-47b0-9287-75a494d7c77b",
   "metadata": {},
   "source": [
    "import lxml"
   ]
  },
  {
   "cell_type": "code",
   "execution_count": 7,
   "id": "b830c9b5-d23a-4fee-869c-ddf0e478f074",
   "metadata": {},
   "outputs": [],
   "source": [
    "src = driver.page_source\n",
    " \n",
    "# Now using beautiful soup\n",
    "soup = BeautifulSoup(src, 'lxml')"
   ]
  },
  {
   "cell_type": "code",
   "execution_count": 8,
   "id": "e7609ace-5bcd-4c8c-882d-6e50d6e62f1b",
   "metadata": {},
   "outputs": [
    {
     "name": "stdout",
     "output_type": "stream",
     "text": [
      "<div class=\"pv-text-details__left-panel pv-text-details__left-panel--full-width\">\n",
      "<div>\n",
      "<h1 class=\"text-heading-xlarge inline t-24 v-align-middle break-words\">Agastya Seth</h1>\n",
      "<!-- --><!-- --><!-- --><!-- --> </div>\n",
      "<!-- --> <div class=\"text-body-medium break-words\" data-generated-suggestion-target=\"urn:li:fsu_profileActionDelegate:408276601\">\n",
      "      Incoming MS CS Student | ASU ‘23\n",
      "    </div>\n",
      "<!-- --><!-- --><!-- --> </div>\n"
     ]
    }
   ],
   "source": [
    "intro = soup.find('div', {'class': 'pv-text-details__left-panel'})\n",
    " \n",
    "print(intro)"
   ]
  },
  {
   "cell_type": "code",
   "execution_count": 11,
   "id": "dac8fb83-79c8-4097-817a-ad3c0bd3ead3",
   "metadata": {},
   "outputs": [],
   "source": [
    "location = soup.find('div', {'class': 'pv-text-details__left-panel mt2'})"
   ]
  },
  {
   "cell_type": "code",
   "execution_count": 12,
   "id": "fd9d9ae7-a286-4b02-b987-e5c100998898",
   "metadata": {},
   "outputs": [
    {
     "data": {
      "text/plain": [
       "<div class=\"pv-text-details__left-panel mt2\">\n",
       "<span class=\"text-body-small inline t-black--light break-words\">\n",
       "      Noida, Uttar Pradesh, India\n",
       "    </span>\n",
       "<span class=\"pv-text-details__separator t-black--light\">\n",
       "<a class=\"ember-view link-without-visited-state cursor-pointer text-heading-small inline-block break-words\" href=\"/in/agastyaseth/overlay/contact-info/\" id=\"top-card-text-details-contact-info\">\n",
       "          Contact info\n",
       "        </a>\n",
       "</span>\n",
       "</div>"
      ]
     },
     "execution_count": 12,
     "metadata": {},
     "output_type": "execute_result"
    }
   ],
   "source": [
    "location"
   ]
  },
  {
   "cell_type": "code",
   "execution_count": 13,
   "id": "8ba61d31-5037-4216-b0cf-5e30d73ed6ac",
   "metadata": {},
   "outputs": [],
   "source": [
    "# In case of an error, try changing the tags used here.\n",
    " \n",
    "name_loc = intro.find(\"h1\")\n",
    " \n",
    "# Extracting the Name\n",
    "name = name_loc.get_text().strip()\n",
    "# strip() is used to remove any extra blank spaces\n",
    " \n",
    "works_at_loc = intro.find(\"div\", {'class': 'text-body-medium'})\n",
    " \n",
    "# this gives us the HTML of the tag in which the Company Name is present\n",
    "# Extracting the Company Name\n",
    "works_at = works_at_loc.get_text().strip()\n",
    " \n",
    "location_span = soup.find('span', class_='text-body-small inline t-black--light break-words')\n",
    "location = location_span.get_text(strip=True) if location_span else None"
   ]
  },
  {
   "cell_type": "code",
   "execution_count": 21,
   "id": "068d7818-2489-48ba-9fb8-25fc86c28828",
   "metadata": {},
   "outputs": [
    {
     "name": "stdout",
     "output_type": "stream",
     "text": [
      "Name --> Agastya Seth \n",
      "Works At --> Incoming MS CS Student | ASU ‘23 \n",
      "Location --> Noida, Uttar Pradesh, India\n"
     ]
    }
   ],
   "source": [
    "print(\"Name -->\", name,\n",
    "      \"\\nWorks At -->\", works_at,\n",
    "      \"\\nLocation -->\", location)"
   ]
  },
  {
   "cell_type": "code",
   "execution_count": 23,
   "id": "26bc9553-fa92-4b14-9100-c365ff35f118",
   "metadata": {},
   "outputs": [],
   "source": [
    "# Getting the HTML of the Experience section in the profile\n",
    "experience = soup.find(\"section\", {\"id\": \"experience-section\"})"
   ]
  },
  {
   "cell_type": "code",
   "execution_count": 24,
   "id": "fc657534-caf1-4a19-bf49-3f4b48f03f82",
   "metadata": {},
   "outputs": [],
   "source": [
    "experience"
   ]
  },
  {
   "cell_type": "code",
   "execution_count": null,
   "id": "4914674c-d8f5-411f-8e34-c218026ba9ca",
   "metadata": {},
   "outputs": [],
   "source": []
  }
 ],
 "metadata": {
  "kernelspec": {
   "display_name": "Python 3 (ipykernel)",
   "language": "python",
   "name": "python3"
  },
  "language_info": {
   "codemirror_mode": {
    "name": "ipython",
    "version": 3
   },
   "file_extension": ".py",
   "mimetype": "text/x-python",
   "name": "python",
   "nbconvert_exporter": "python",
   "pygments_lexer": "ipython3",
   "version": "3.11.4"
  }
 },
 "nbformat": 4,
 "nbformat_minor": 5
}
