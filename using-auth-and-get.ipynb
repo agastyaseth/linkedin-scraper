{
 "cells": [
  {
   "cell_type": "code",
   "execution_count": 1,
   "id": "6d7dbbea-06e9-4705-92ef-b8c4f1baa047",
   "metadata": {},
   "outputs": [],
   "source": [
    "import requests\n",
    "from bs4 import BeautifulSoup\n"
   ]
  },
  {
   "cell_type": "code",
   "execution_count": 9,
   "id": "6115ef70-50ec-4294-b42e-b453f31343b4",
   "metadata": {},
   "outputs": [],
   "source": [
    "def login_to_linkedin(email, password):\n",
    "    # Start a session\n",
    "    session = requests.Session()\n",
    "\n",
    "    # Load the login page to get the CSRF token\n",
    "    login_url = \"https://www.linkedin.com/uas/login\"\n",
    "    login_page = session.get(login_url)\n",
    "    login_soup = BeautifulSoup(login_page.content, 'html.parser')\n",
    "    csrf_token = login_soup.find('input', {'name': 'loginCsrfParam'}).get('value')\n",
    "\n",
    "    # Set up the payload for logging in\n",
    "    login_data = {\n",
    "        'session_key': email,\n",
    "        'session_password': password,\n",
    "        'loginCsrfParam': csrf_token,\n",
    "    }\n",
    "\n",
    "    # Send the login request\n",
    "    response = session.post(login_url, data=login_data)\n",
    "\n",
    "    # Return the session object if login is successful, or None if not\n",
    "    if response.url == \"https://www.linkedin.com/feed/\":\n",
    "        return session\n",
    "    else:\n",
    "        return None"
   ]
  },
  {
   "cell_type": "code",
   "execution_count": 11,
   "id": "f497da91-a7e2-42dd-8ff4-7eaf4d30e627",
   "metadata": {},
   "outputs": [],
   "source": [
    "def parse_linkedin_profile(session, url):\n",
    "    try:\n",
    "        # Fetch the LinkedIn profile page using the authenticated session\n",
    "        response = session.get(url)\n",
    "        response.raise_for_status()\n",
    "\n",
    "        # Parse the HTML content using BeautifulSoup\n",
    "        soup = BeautifulSoup(response.content, 'html.parser')\n",
    "\n",
    "        # Find the name and headline elements\n",
    "        name_element = soup.find('h1', class_='pv-top-card-section__name')\n",
    "        headline_element = soup.find('h2', class_='pv-top-card-section__headline')\n",
    "\n",
    "        # Extract the text from the elements\n",
    "        name = name_element.get_text() if name_element else \"Name not found\"\n",
    "        headline = headline_element.get_text() if headline_element else \"Headline not found\"\n",
    "\n",
    "        return name, headline\n",
    "\n",
    "    except requests.exceptions.RequestException as e:\n",
    "        print(f\"Error fetching the page: {e}\")\n",
    "        return None, None\n"
   ]
  },
  {
   "cell_type": "code",
   "execution_count": 13,
   "id": "2bcfdb7c-7c1a-4cc4-b339-18eb7f36c4ae",
   "metadata": {},
   "outputs": [
    {
     "name": "stdout",
     "output_type": "stream",
     "text": [
      "Login failed. Please check your email and password.\n"
     ]
    }
   ],
   "source": [
    "if __name__ == \"__main__\":\n",
    "    email = \"coils.colts-0h@icloud.com\"\n",
    "    password = \"*****\"\n",
    "\n",
    "    session = login_to_linkedin(email, password)\n",
    "    if session:\n",
    "        profile_url = \"https://www.linkedin.com/in/agastyaseth\"\n",
    "        name, headline = parse_linkedin_profile(session, profile_url)\n",
    "        print(f\"Name: {name}\")\n",
    "        print(f\"Headline: {headline}\")\n",
    "    else:\n",
    "        print(\"Login failed. Please check your email and password.\")"
   ]
  },
  {
   "cell_type": "code",
   "execution_count": null,
   "id": "1bf3f600-093c-42d4-8355-b1deb7250589",
   "metadata": {},
   "outputs": [],
   "source": [
    "# Start a session\n",
    "session = requests.Session()\n",
    "\n",
    "# Load the login page to get the CSRF token\n",
    "login_url = \"https://www.linkedin.com/uas/login\"\n",
    "login_page = session.get(login_url)\n",
    "login_soup = BeautifulSoup(login_page.content, 'html.parser')\n",
    "csrf_token = login_soup.find('input', {'name': 'loginCsrfParam'}).get('value')\n",
    "\n",
    "csrf_token\n",
    "# # Return the session object if login is successful, or None if not\n",
    "# if response.url == \"https://www.linkedin.com/feed/\":\n",
    "#     return session\n",
    "# else:\n",
    "#     return None"
   ]
  },
  {
   "cell_type": "code",
   "execution_count": 19,
   "id": "f8fe28de-e03e-47df-8b13-feb6b6ca42df",
   "metadata": {},
   "outputs": [],
   "source": [
    "\n",
    "# Set up the payload for logging in\n",
    "login_data = {\n",
    "    'session_key': \"coils.colts-0h@icloud.com\",\n",
    "    'session_password': \"*****\",\n",
    "    'loginCsrfParam': csrf_token,\n",
    "}\n",
    "\n",
    "# Send the login request\n",
    "response = session.post(login_url, data=login_data)"
   ]
  },
  {
   "cell_type": "code",
   "execution_count": 20,
   "id": "803267b5-4d8f-4cb4-8b0e-baec8200a085",
   "metadata": {},
   "outputs": [
    {
     "data": {
      "text/plain": [
       "b'<!DOCTYPE html>\\n<html lang=\"en\">\\n    <head>\\n        <title>Unauthorized</title>\\n        <style>\\n            html, body, pre {\\n                margin: 0;\\n                padding: 0;\\n                font-family: Monaco, \\'Lucida Console\\', monospace;\\n                background: #ECECEC;\\n            }\\n            h1 {\\n                margin: 0;\\n                background: #333;\\n                padding: 20px 45px;\\n                color: #fff;\\n                text-shadow: 1px 1px 1px rgba(0,0,0,.3);\\n                border-bottom: 1px solid #111;\\n                font-size: 28px;\\n            }\\n            p#detail {\\n                margin: 0;\\n                padding: 15px 45px;\\n                background: #888;\\n                border-top: 4px solid #666;\\n                color: #111;\\n                text-shadow: 1px 1px 1px rgba(255,255,255,.3);\\n                font-size: 14px;\\n                border-bottom: 1px solid #333;\\n            }\\n        </style>\\n    </head>\\n    <body>\\n        <h1>Unauthorized</h1>\\n        <p id=\"detail\">\\n            You must be authenticated to access this page.\\n        </p>\\n    </body>\\n</html>\\n'"
      ]
     },
     "execution_count": 20,
     "metadata": {},
     "output_type": "execute_result"
    }
   ],
   "source": [
    "response.content"
   ]
  },
  {
   "cell_type": "code",
   "execution_count": 5,
   "id": "cbaa0cbe-1a01-4713-89b7-a57615af7314",
   "metadata": {},
   "outputs": [],
   "source": [
    "response = requests.get('https://www.linkedin.com/in/agastyaseth')\n",
    "response.raise_for_status()"
   ]
  },
  {
   "cell_type": "code",
   "execution_count": 7,
   "id": "eec70d1f-395e-437c-a73d-d8887dc320b6",
   "metadata": {},
   "outputs": [],
   "source": [
    "soup = BeautifulSoup(response.content, 'html.parser')"
   ]
  },
  {
   "cell_type": "code",
   "execution_count": 8,
   "id": "b2507cbf-33ee-4a28-80f1-81fec9038d46",
   "metadata": {},
   "outputs": [
    {
     "data": {
      "text/plain": [
       "<html><head>\n",
       "<script type=\"text/javascript\">\n",
       "window.onload = function() {\n",
       "  // Parse the tracking code from cookies.\n",
       "  var trk = \"bf\";\n",
       "  var trkInfo = \"bf\";\n",
       "  var cookies = document.cookie.split(\"; \");\n",
       "  for (var i = 0; i < cookies.length; ++i) {\n",
       "    if ((cookies[i].indexOf(\"trkCode=\") == 0) && (cookies[i].length > 8)) {\n",
       "      trk = cookies[i].substring(8);\n",
       "    }\n",
       "    else if ((cookies[i].indexOf(\"trkInfo=\") == 0) && (cookies[i].length > 8)) {\n",
       "      trkInfo = cookies[i].substring(8);\n",
       "    }\n",
       "  }\n",
       "\n",
       "  if (window.location.protocol == \"http:\") {\n",
       "    // If \"sl\" cookie is set, redirect to https.\n",
       "    for (var i = 0; i < cookies.length; ++i) {\n",
       "      if ((cookies[i].indexOf(\"sl=\") == 0) && (cookies[i].length > 3)) {\n",
       "        window.location.href = \"https:\" + window.location.href.substring(window.location.protocol.length);\n",
       "        return;\n",
       "      }\n",
       "    }\n",
       "  }\n",
       "\n",
       "  // Get the new domain. For international domains such as\n",
       "  // fr.linkedin.com, we convert it to www.linkedin.com\n",
       "  // treat .cn similar to .com here\n",
       "  var domain = location.host;\n",
       "  if (domain != \"www.linkedin.com\" && domain != \"www.linkedin.cn\") {\n",
       "    var subdomainIndex = location.host.indexOf(\".linkedin\");\n",
       "    if (subdomainIndex != -1) {\n",
       "      domain = \"www\" + location.host.substring(subdomainIndex);\n",
       "    }\n",
       "  }\n",
       "\n",
       "  window.location.href = \"https://\" + domain + \"/authwall?trk=\" + trk + \"&trkInfo=\" + trkInfo +\n",
       "      \"&original_referer=\" + document.referrer.substr(0, 200) +\n",
       "      \"&sessionRedirect=\" + encodeURIComponent(window.location.href);\n",
       "}\n",
       "</script>\n",
       "</head></html>"
      ]
     },
     "execution_count": 8,
     "metadata": {},
     "output_type": "execute_result"
    }
   ],
   "source": [
    "soup"
   ]
  },
  {
   "cell_type": "code",
   "execution_count": null,
   "id": "3455a71a-9d01-44ec-9895-c2740297711d",
   "metadata": {},
   "outputs": [],
   "source": []
  }
 ],
 "metadata": {
  "kernelspec": {
   "display_name": "Python 3 (ipykernel)",
   "language": "python",
   "name": "python3"
  },
  "language_info": {
   "codemirror_mode": {
    "name": "ipython",
    "version": 3
   },
   "file_extension": ".py",
   "mimetype": "text/x-python",
   "name": "python",
   "nbconvert_exporter": "python",
   "pygments_lexer": "ipython3",
   "version": "3.11.4"
  }
 },
 "nbformat": 4,
 "nbformat_minor": 5
}
